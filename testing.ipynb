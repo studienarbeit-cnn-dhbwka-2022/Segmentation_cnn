{
 "cells": [
  {
   "cell_type": "code",
   "execution_count": 1,
   "metadata": {
    "collapsed": true,
    "ExecuteTime": {
     "start_time": "2023-04-08T21:57:36.010343Z",
     "end_time": "2023-04-08T21:57:36.056013Z"
    }
   },
   "outputs": [],
   "source": [
    "from PIL import Image, ImageDraw\n",
    "import json\n",
    "import os\n",
    "import random"
   ]
  },
  {
   "cell_type": "code",
   "execution_count": 4,
   "outputs": [],
   "source": [
    "def get_random_json_files(folder_path, num_files=3):\n",
    "    \"\"\"\n",
    "    Returns a list of `num_files` random JSON files from the given `folder_path`.\n",
    "    \"\"\"\n",
    "    # Get a list of all JSON files in the folder\n",
    "    json_files = [os.path.join(folder_path, f) for f in os.listdir(folder_path) if f.endswith('.json')]\n",
    "\n",
    "    # If there are fewer than `num_files` JSON files, return all of them\n",
    "    if len(json_files) < num_files:\n",
    "        return json_files\n",
    "\n",
    "    # Select `num_files` random JSON files from the list\n",
    "    return random.sample(json_files, num_files)"
   ],
   "metadata": {
    "collapsed": false,
    "ExecuteTime": {
     "start_time": "2023-04-08T21:58:35.767283Z",
     "end_time": "2023-04-08T21:58:35.781305Z"
    }
   }
  },
  {
   "cell_type": "code",
   "execution_count": 14,
   "outputs": [],
   "source": [
    "def show_annotations(input_file):\n",
    "    with open(input_file, 'r') as f:\n",
    "        data = json.load(f)\n",
    "\n",
    "    img = Image.open(\"C:\\\\Users\\\\Video-gamer\\\\Downloads\\\\An_YmP5OIPXun-vu3hkckAZZ2s4lPYoVkiyvCcWiVY21mu1Ng5_1HeCa2CWiSTsskj8HQ8bN013HxNpYDdSC_7jWQq_svcg\\\\\" + data['image']['file_name'])\n",
    "    draw = ImageDraw.Draw(img)\n",
    "\n",
    "    for ann in data['annotations']:\n",
    "        bbox = ann['bbox']\n",
    "        draw.rectangle([bbox[0], bbox[1], bbox[0]+bbox[2], bbox[1]+bbox[3]], outline=(0, 255, 0), width=2)\n",
    "\n",
    "    img.show()\n"
   ],
   "metadata": {
    "collapsed": false,
    "ExecuteTime": {
     "start_time": "2023-04-08T22:03:05.732419Z",
     "end_time": "2023-04-08T22:03:05.735419Z"
    }
   }
  },
  {
   "cell_type": "code",
   "execution_count": 16,
   "outputs": [
    {
     "name": "stdout",
     "output_type": "stream",
     "text": [
      "C:\\Users\\Video-gamer\\Downloads\\An_YmP5OIPXun-vu3hkckAZZ2s4lPYoVkiyvCcWiVY21mu1Ng5_1HeCa2CWiSTsskj8HQ8bN013HxNpYDdSC_7jWQq_svcg\\sa_227072.json\n",
      "C:\\Users\\Video-gamer\\Downloads\\An_YmP5OIPXun-vu3hkckAZZ2s4lPYoVkiyvCcWiVY21mu1Ng5_1HeCa2CWiSTsskj8HQ8bN013HxNpYDdSC_7jWQq_svcg\\sa_226726.json\n",
      "C:\\Users\\Video-gamer\\Downloads\\An_YmP5OIPXun-vu3hkckAZZ2s4lPYoVkiyvCcWiVY21mu1Ng5_1HeCa2CWiSTsskj8HQ8bN013HxNpYDdSC_7jWQq_svcg\\sa_229555.json\n"
     ]
    }
   ],
   "source": [
    "files = get_random_json_files(\"C:\\\\Users\\\\Video-gamer\\\\Downloads\\\\An_YmP5OIPXun-vu3hkckAZZ2s4lPYoVkiyvCcWiVY21mu1Ng5_1HeCa2CWiSTsskj8HQ8bN013HxNpYDdSC_7jWQq_svcg\")\n",
    "\n",
    "for fjson in files:\n",
    "    print(fjson)\n",
    "    show_annotations(fjson)"
   ],
   "metadata": {
    "collapsed": false,
    "ExecuteTime": {
     "start_time": "2023-04-08T22:03:28.022133Z",
     "end_time": "2023-04-08T22:03:32.635484Z"
    }
   }
  }
 ],
 "metadata": {
  "kernelspec": {
   "display_name": "Python 3",
   "language": "python",
   "name": "python3"
  },
  "language_info": {
   "codemirror_mode": {
    "name": "ipython",
    "version": 2
   },
   "file_extension": ".py",
   "mimetype": "text/x-python",
   "name": "python",
   "nbconvert_exporter": "python",
   "pygments_lexer": "ipython2",
   "version": "2.7.6"
  }
 },
 "nbformat": 4,
 "nbformat_minor": 0
}
